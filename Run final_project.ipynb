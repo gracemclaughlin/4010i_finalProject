{
 "cells": [
  {
   "cell_type": "code",
   "execution_count": null,
   "metadata": {
    "scrolled": true
   },
   "outputs": [
    {
     "name": "stdout",
     "output_type": "stream",
     "text": [
      "{'dataset': 'babi', 'task': 1, 'decoder': None, 'hidden': None, 'batch': 32, 'learn': 0.001, 'drop': None, 'unk_mask': False, 'layer': None, 'limit': -10000, 'path': None, 'test': None, 'sample': None, 'useKB': 0, 'entPtr': 0, 'evalp': 2, 'addName': ''}\n"
     ]
    },
    {
     "name": "stderr",
     "output_type": "stream",
     "text": [
      "05-20 12:53 Reading lines from data/dialog-bAbI-tasks/dialog-babi-task1trn.txt\n",
      "05-20 12:53 Pointer percentage= 0.23558445004643758 \n",
      "05-20 12:53 Max response Length: 9\n",
      "05-20 12:53 Max Input Length: 73\n",
      "05-20 12:53 Avg. User Utterances: 4.024\n",
      "05-20 12:53 Avg. Bot Utterances: 6.024\n",
      "05-20 12:53 Avg. KB results: 0.0\n",
      "05-20 12:53 Avg. response Length: 6.255810092961488\n"
     ]
    },
    {
     "name": "stdout",
     "output_type": "stream",
     "text": [
      "Sample:  [['hi', '$u', 't1'], ['hello', '$s', 't1'], ['what', '$s', 't1'], ['can', '$s', 't1'], ['i', '$s', 't1'], ['help', '$s', 't1'], ['you', '$s', 't1'], ['with', '$s', 't1'], ['today', '$s', 't1'], ['can', '$u', 't2'], ['you', '$u', 't2'], ['book', '$u', 't2'], ['a', '$u', 't2'], ['table', '$u', 't2'], ['$$$$', '$$$$', '$$$$']] i'm on it [14, 14, 14] [0, 0, 0]\n"
     ]
    },
    {
     "name": "stderr",
     "output_type": "stream",
     "text": [
      "05-20 12:53 Reading lines from data/dialog-bAbI-tasks/dialog-babi-task1dev.txt\n",
      "05-20 12:53 Pointer percentage= 0.23736755231350834 \n",
      "05-20 12:53 Max response Length: 9\n",
      "05-20 12:53 Max Input Length: 73\n",
      "05-20 12:53 Avg. User Utterances: 4.015\n",
      "05-20 12:53 Avg. Bot Utterances: 6.015\n",
      "05-20 12:53 Avg. KB results: 0.0\n",
      "05-20 12:53 Avg. response Length: 6.244721529509559\n"
     ]
    },
    {
     "name": "stdout",
     "output_type": "stream",
     "text": [
      "Sample:  [['hello', '$u', 't1'], ['hello', '$s', 't1'], ['what', '$s', 't1'], ['can', '$s', 't1'], ['i', '$s', 't1'], ['help', '$s', 't1'], ['you', '$s', 't1'], ['with', '$s', 't1'], ['today', '$s', 't1'], ['can', '$u', 't2'], ['you', '$u', 't2'], ['book', '$u', 't2'], ['a', '$u', 't2'], ['table', '$u', 't2'], ['for', '$u', 't2'], ['six', '$u', 't2'], ['people', '$u', 't2'], ['with', '$u', 't2'], ['french', '$u', 't2'], ['food', '$u', 't2'], ['$$$$', '$$$$', '$$$$']] i'm on it [20, 20, 20] [0, 0, 0]\n"
     ]
    },
    {
     "name": "stderr",
     "output_type": "stream",
     "text": [
      "05-20 12:53 Reading lines from data/dialog-bAbI-tasks/dialog-babi-task1tst.txt\n",
      "05-20 12:53 Pointer percentage= 0.2377867746288799 \n",
      "05-20 12:53 Max response Length: 9\n",
      "05-20 12:53 Max Input Length: 73\n",
      "05-20 12:53 Avg. User Utterances: 3.936\n",
      "05-20 12:53 Avg. Bot Utterances: 5.936\n",
      "05-20 12:53 Avg. KB results: 0.0\n",
      "05-20 12:53 Avg. response Length: 6.241576819407008\n"
     ]
    },
    {
     "name": "stdout",
     "output_type": "stream",
     "text": [
      "Sample:  [['good', '$u', 't1'], ['morning', '$u', 't1'], ['hello', '$s', 't1'], ['what', '$s', 't1'], ['can', '$s', 't1'], ['i', '$s', 't1'], ['help', '$s', 't1'], ['you', '$s', 't1'], ['with', '$s', 't1'], ['today', '$s', 't1'], ['can', '$u', 't2'], ['you', '$u', 't2'], ['book', '$u', 't2'], ['a', '$u', 't2'], ['table', '$u', 't2'], ['in', '$u', 't2'], ['a', '$u', 't2'], ['cheap', '$u', 't2'], ['price', '$u', 't2'], ['range', '$u', 't2'], ['in', '$u', 't2'], ['london', '$u', 't2'], ['$$$$', '$$$$', '$$$$']] i'm on it [22, 22, 22] [0, 0, 0]\n"
     ]
    },
    {
     "name": "stderr",
     "output_type": "stream",
     "text": [
      "05-20 12:53 Reading lines from data/dialog-bAbI-tasks/dialog-babi-task1tst-OOV.txt\n",
      "05-20 12:53 Pointer percentage= 0.23688052451357736 \n",
      "05-20 12:53 Max response Length: 9\n",
      "05-20 12:53 Max Input Length: 73\n",
      "05-20 12:53 Avg. User Utterances: 4.02\n",
      "05-20 12:53 Avg. Bot Utterances: 6.02\n",
      "05-20 12:53 Avg. KB results: 0.0\n",
      "05-20 12:53 Avg. response Length: 6.25797342192691\n"
     ]
    },
    {
     "name": "stdout",
     "output_type": "stream",
     "text": [
      "Sample:  [['hello', '$u', 't1'], ['hello', '$s', 't1'], ['what', '$s', 't1'], ['can', '$s', 't1'], ['i', '$s', 't1'], ['help', '$s', 't1'], ['you', '$s', 't1'], ['with', '$s', 't1'], ['today', '$s', 't1'], ['may', '$u', 't2'], ['i', '$u', 't2'], ['have', '$u', 't2'], ['a', '$u', 't2'], ['table', '$u', 't2'], ['in', '$u', 't2'], ['seoul', '$u', 't2'], ['$$$$', '$$$$', '$$$$']] i'm on it [16, 16, 16] [0, 0, 0]\n"
     ]
    },
    {
     "name": "stderr",
     "output_type": "stream",
     "text": [
      "05-20 12:53 Read 6024 sentence pairs train\n",
      "05-20 12:53 Read 6015 sentence pairs dev\n",
      "05-20 12:53 Read 5936 sentence pairs test\n",
      "05-20 12:53 Read 6020 sentence pairs test\n",
      "05-20 12:53 Max len Input 74 \n",
      "05-20 12:53 Vocab_size 93 \n",
      "05-20 12:53 USE_CUDA=False\n"
     ]
    },
    {
     "name": "stdout",
     "output_type": "stream",
     "text": [
      "sucessful data loading !\n",
      "loaded model!\n"
     ]
    },
    {
     "name": "stderr",
     "output_type": "stream",
     "text": [
      "05-20 12:53 Epoch:0\n",
      "L:4.40, VL:3.04, PL:1.36: 100%|██████████████████████████████████████████████████████| 189/189 [00:57<00:00,  3.29it/s]\n",
      "05-20 12:54 STARTING EVALUATION\n",
      "R:0.2212,W:42.4321: 100%|████████████████████████████████████████████████████████████| 189/189 [00:40<00:00,  4.63it/s]\n",
      "05-20 12:55 Dialog Accuracy:\t0.0\n",
      "05-20 12:55 BLEU SCORE:0.2377269574385472\n",
      "05-20 12:55 MODEL SAVED\n",
      "05-20 12:55 Epoch:1\n",
      "L:2.86, VL:2.08, PL:0.78: 100%|██████████████████████████████████████████████████████| 189/189 [00:50<00:00,  3.76it/s]\n",
      "05-20 12:55 STARTING EVALUATION\n",
      "R:0.8148,W:18.3997: 100%|████████████████████████████████████████████████████████████| 189/189 [00:55<00:00,  3.38it/s]\n",
      "05-20 12:56 Dialog Accuracy:\t0.213\n",
      "05-20 12:56 BLEU SCORE:0.2380433137188155\n",
      "05-20 12:56 MODEL SAVED\n",
      "05-20 12:56 Epoch:2\n",
      "L:2.09, VL:1.55, PL:0.54: 100%|██████████████████████████████████████████████████████| 189/189 [00:50<00:00,  3.77it/s]\n",
      "05-20 12:57 STARTING EVALUATION\n",
      "R:0.8917,W:10.7791: 100%|████████████████████████████████████████████████████████████| 189/189 [00:56<00:00,  3.33it/s]\n",
      "05-20 12:58 Dialog Accuracy:\t0.43\n",
      "05-20 12:58 BLEU SCORE:0.24057915880374411\n",
      "05-20 12:58 MODEL SAVED\n",
      "05-20 12:58 Epoch:3\n",
      "L:1.68, VL:1.26, PL:0.42: 100%|██████████████████████████████████████████████████████| 189/189 [00:49<00:00,  3.83it/s]\n",
      "05-20 12:59 STARTING EVALUATION\n",
      "R:0.9048,W:10.1533: 100%|████████████████████████████████████████████████████████████| 189/189 [01:02<00:00,  3.05it/s]\n",
      "05-20 13:00 Dialog Accuracy:\t0.477\n",
      "05-20 13:00 BLEU SCORE:0.23964539690915465\n",
      "05-20 13:00 MODEL SAVED\n",
      "05-20 13:00 Epoch:4\n",
      "L:1.41, VL:1.07, PL:0.34: 100%|██████████████████████████████████████████████████████| 189/189 [00:49<00:00,  3.80it/s]\n",
      "05-20 13:01 STARTING EVALUATION\n",
      "R:0.9163,W:8.9911: 100%|█████████████████████████████████████████████████████████████| 189/189 [00:56<00:00,  3.97it/s]\n",
      "05-20 13:02 Dialog Accuracy:\t0.524\n",
      "05-20 13:02 BLEU SCORE:0.23965129085151735\n",
      "05-20 13:02 MODEL SAVED\n",
      "05-20 13:02 Epoch:5\n",
      "L:1.22, VL:0.93, PL:0.29: 100%|██████████████████████████████████████████████████████| 189/189 [00:49<00:00,  3.81it/s]\n",
      "05-20 13:03 STARTING EVALUATION\n",
      "R:0.9297,W:7.7269: 100%|█████████████████████████████████████████████████████████████| 189/189 [00:59<00:00,  3.15it/s]\n",
      "05-20 13:04 Dialog Accuracy:\t0.588\n",
      "05-20 13:04 BLEU SCORE:0.2406860134679945\n",
      "05-20 13:04 MODEL SAVED\n",
      "05-20 13:04 Epoch:6\n",
      "L:1.09, VL:0.83, PL:0.25: 100%|██████████████████████████████████████████████████████| 189/189 [00:49<00:00,  3.82it/s]\n",
      "05-20 13:05 STARTING EVALUATION\n",
      "R:0.9268,W:7.6103: 100%|█████████████████████████████████████████████████████████████| 189/189 [00:57<00:00,  4.02it/s]\n",
      "05-20 13:06 Dialog Accuracy:\t0.566\n",
      "05-20 13:06 BLEU SCORE:0.2375080902075293\n",
      "05-20 13:06 Epoch:7\n",
      "L:0.98, VL:0.76, PL:0.22: 100%|██████████████████████████████████████████████████████| 189/189 [00:49<00:00,  3.86it/s]\n",
      "05-20 13:06 STARTING EVALUATION\n",
      "R:0.9344,W:5.8428: 100%|█████████████████████████████████████████████████████████████| 189/189 [00:56<00:00,  4.30it/s]\n",
      "05-20 13:07 Dialog Accuracy:\t0.613\n",
      "05-20 13:07 BLEU SCORE:0.23837657147223035\n",
      "05-20 13:07 MODEL SAVED\n",
      "05-20 13:07 Epoch:8\n",
      "L:0.90, VL:0.70, PL:0.20: 100%|██████████████████████████████████████████████████████| 189/189 [00:49<00:00,  3.79it/s]\n",
      "05-20 13:08 STARTING EVALUATION\n",
      "R:0.9342,W:6.3781: 100%|█████████████████████████████████████████████████████████████| 189/189 [00:56<00:00,  3.35it/s]\n",
      "05-20 13:09 Dialog Accuracy:\t0.609\n",
      "05-20 13:09 BLEU SCORE:0.23879932458436737\n",
      "05-20 13:09 Epoch:9\n",
      "L:0.83, VL:0.65, PL:0.18: 100%|██████████████████████████████████████████████████████| 189/189 [00:48<00:00,  3.88it/s]\n",
      "05-20 13:10 STARTING EVALUATION\n",
      "R:0.9468,W:3.6002: 100%|█████████████████████████████████████████████████████████████| 189/189 [00:56<00:00,  3.32it/s]\n",
      "05-20 13:11 Dialog Accuracy:\t0.679\n",
      "05-20 13:11 BLEU SCORE:0.23957317534827394\n",
      "05-20 13:11 MODEL SAVED\n",
      "05-20 13:11 Epoch:10\n",
      "L:0.77, VL:0.61, PL:0.16: 100%|██████████████████████████████████████████████████████| 189/189 [00:48<00:00,  3.86it/s]\n",
      "05-20 13:12 STARTING EVALUATION\n",
      "R:0.9630,W:2.4598: 100%|█████████████████████████████████████████████████████████████| 189/189 [00:57<00:00,  3.80it/s]\n",
      "05-20 13:13 Dialog Accuracy:\t0.781\n",
      "05-20 13:13 BLEU SCORE:0.23852196554401134\n",
      "05-20 13:13 MODEL SAVED\n",
      "05-20 13:13 Epoch:11\n",
      "L:0.72, VL:0.57, PL:0.15: 100%|██████████████████████████████████████████████████████| 189/189 [01:03<00:00,  3.24it/s]\n",
      "05-20 13:14 STARTING EVALUATION\n",
      "R:0.8571,W:1.5941:  88%|█████████████████████████████████████████████████████▉       | 167/189 [01:19<00:10,  2.16it/s]"
     ]
    }
   ],
   "source": [
    "%run main.py "
   ]
  },
  {
   "cell_type": "code",
   "execution_count": null,
   "metadata": {},
   "outputs": [],
   "source": []
  }
 ],
 "metadata": {
  "kernelspec": {
   "display_name": "Python 3",
   "language": "python",
   "name": "python3"
  },
  "language_info": {
   "codemirror_mode": {
    "name": "ipython",
    "version": 3
   },
   "file_extension": ".py",
   "mimetype": "text/x-python",
   "name": "python",
   "nbconvert_exporter": "python",
   "pygments_lexer": "ipython3",
   "version": "3.6.5"
  }
 },
 "nbformat": 4,
 "nbformat_minor": 2
}
