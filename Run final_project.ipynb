{
 "cells": [
  {
   "cell_type": "code",
   "execution_count": 4,
   "metadata": {
    "scrolled": true
   },
   "outputs": [
    {
     "name": "stderr",
     "output_type": "stream",
     "text": [
      "05-19 22:26 Reading lines from data/eng-fra.txt\n",
      "05-19 22:27 Pointer percentage= 0.1438264022393819 \n",
      "05-19 22:27 Max response Length: 60\n",
      "05-19 22:27 Max Input Length: 52\n",
      "05-19 22:27 Sample: Eng = go . $$$$, Fre = va !, Ptr = [2, 2]\n",
      "05-19 22:27 Read 142222 sentence pairs train\n",
      "05-19 22:27 Max len Input 52 \n",
      "05-19 22:27 Vocab_size 39234 \n",
      "05-19 22:27 USE_CUDA=False\n"
     ]
    },
    {
     "name": "stdout",
     "output_type": "stream",
     "text": [
      "sucessful loading !\n"
     ]
    },
    {
     "ename": "TypeError",
     "evalue": "__init__() missing 2 required positional arguments: 'task' and 'unk_mask'",
     "output_type": "error",
     "traceback": [
      "\u001b[1;31m---------------------------------------------------------------------------\u001b[0m",
      "\u001b[1;31mTypeError\u001b[0m                                 Traceback (most recent call last)",
      "\u001b[1;32m~\\Documents\\4th_year\\4010i\\final_project\\main.py\u001b[0m in \u001b[0;36m<module>\u001b[1;34m()\u001b[0m\n\u001b[0;32m     13\u001b[0m model = Mem2Seq(hidden_size= 100, max_len= max_len, \n\u001b[0;32m     14\u001b[0m                 \u001b[0mmax_r\u001b[0m\u001b[1;33m=\u001b[0m \u001b[0mmax_r\u001b[0m\u001b[1;33m,\u001b[0m \u001b[0mlang\u001b[0m\u001b[1;33m=\u001b[0m\u001b[0mlang\u001b[0m\u001b[1;33m,\u001b[0m\u001b[1;33m\u001b[0m\u001b[0m\n\u001b[1;32m---> 15\u001b[1;33m                 path=\"\",lr=0.001, n_layers=3, dropout=0.0)\n\u001b[0m\u001b[0;32m     16\u001b[0m \u001b[1;33m\u001b[0m\u001b[0m\n\u001b[0;32m     17\u001b[0m \u001b[1;31m# #train\u001b[0m\u001b[1;33m\u001b[0m\u001b[1;33m\u001b[0m\u001b[0m\n",
      "\u001b[1;31mTypeError\u001b[0m: __init__() missing 2 required positional arguments: 'task' and 'unk_mask'"
     ]
    }
   ],
   "source": [
    "%run main.py "
   ]
  },
  {
   "cell_type": "code",
   "execution_count": null,
   "metadata": {},
   "outputs": [],
   "source": []
  }
 ],
 "metadata": {
  "kernelspec": {
   "display_name": "Python 3",
   "language": "python",
   "name": "python3"
  },
  "language_info": {
   "codemirror_mode": {
    "name": "ipython",
    "version": 3
   },
   "file_extension": ".py",
   "mimetype": "text/x-python",
   "name": "python",
   "nbconvert_exporter": "python",
   "pygments_lexer": "ipython3",
   "version": "3.6.5"
  }
 },
 "nbformat": 4,
 "nbformat_minor": 2
}
